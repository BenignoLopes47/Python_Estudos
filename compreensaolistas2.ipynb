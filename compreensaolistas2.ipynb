{
 "cells": [
  {
   "cell_type": "code",
   "execution_count": null,
   "metadata": {},
   "outputs": [],
   "source": [
    "precos = [500, 1500, 2000, 100, 25]\n",
    "\n",
    "# Caso 1\n",
    "novo_preco = []\n",
    "for preco in precos:\n",
    "    novo_preco.append(preco * 2)\n",
    "print(novo_preco)\n",
    "\n",
    "# Caso 2\n",
    "imposto = []\n",
    "for preco in precos:\n",
    "    if preco > 1000:\n",
    "        imposto.append(preco / 2)\n",
    "print(imposto)\n"
   ]
  },
  {
   "cell_type": "code",
   "execution_count": null,
   "metadata": {},
   "outputs": [],
   "source": [
    "# Caso 1\n",
    "novo_preco2 = [preco * 2 for preco in precos]\n",
    "print(novo_preco2)\n",
    "\n",
    "# Caso 2\n",
    "imposto2 = [preco / 2 for preco in precos if preco > 1000]\n",
    "print(imposto2)"
   ]
  }
 ],
 "metadata": {
  "kernelspec": {
   "display_name": "Python 3",
   "language": "python",
   "name": "python3"
  },
  "language_info": {
   "codemirror_mode": {
    "name": "ipython",
    "version": 3
   },
   "file_extension": ".py",
   "mimetype": "text/x-python",
   "name": "python",
   "nbconvert_exporter": "python",
   "pygments_lexer": "ipython3",
   "version": "3.12.7"
  }
 },
 "nbformat": 4,
 "nbformat_minor": 2
}
